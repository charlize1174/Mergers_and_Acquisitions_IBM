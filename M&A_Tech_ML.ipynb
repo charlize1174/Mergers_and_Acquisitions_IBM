{
 "cells": [
  {
   "cell_type": "code",
   "execution_count": 1,
   "id": "65d980f6",
   "metadata": {
    "scrolled": true
   },
   "outputs": [],
   "source": [
    "import pandas as pd\n",
    "import numpy as np\n",
    "import matplotlib.pyplot as plt\n",
    "import cpi\n",
    "\n",
    "from sklearn.model_selection import train_test_split, cross_val_score\n",
    "from sklearn.tree import DecisionTreeRegressor, plot_tree\n",
    "from sklearn.ensemble import RandomForestRegressor\n",
    "from sklearn.preprocessing import LabelEncoder\n",
    "from sklearn.metrics import mean_squared_error"
   ]
  },
  {
   "cell_type": "code",
   "execution_count": 2,
   "id": "1ac4109e",
   "metadata": {},
   "outputs": [
    {
     "name": "stdout",
     "output_type": "stream",
     "text": [
      "1455\n",
      "   ID Parent Company Acquisition Year Acquisition Month  \\\n",
      "0   1          Apple             1988               Mar   \n",
      "1   2          Apple             1988               Jun   \n",
      "2   3          Apple             1988               Jun   \n",
      "3   4          Apple             1988               Jul   \n",
      "4   5          Apple             1989               Jan   \n",
      "\n",
      "        Acquired Company           Business Country Acquisition Price  \\\n",
      "0    Network Innovations           Software       -                 -   \n",
      "1  Orion Network Systems  Computer Software       -                 -   \n",
      "2              Styleware  Computer software       -                 -   \n",
      "3        Nashoba Systems  Computer software       -                 -   \n",
      "4         Coral Software  Computer software       -                 -   \n",
      "\n",
      "  Category Derived Products  \n",
      "0        -                -  \n",
      "1        -                -  \n",
      "2        -                -  \n",
      "3        -                -  \n",
      "4        -                -  \n"
     ]
    }
   ],
   "source": [
    "raw_data = pd.read_csv('/Users/charlizesamuels/Downloads/acquisitions_update_2021.csv')\n",
    "print(raw_data.shape[0])\n",
    "print(raw_data.head())"
   ]
  },
  {
   "cell_type": "code",
   "execution_count": 3,
   "id": "043c8bc2",
   "metadata": {},
   "outputs": [
    {
     "data": {
      "text/html": [
       "<div>\n",
       "<style scoped>\n",
       "    .dataframe tbody tr th:only-of-type {\n",
       "        vertical-align: middle;\n",
       "    }\n",
       "\n",
       "    .dataframe tbody tr th {\n",
       "        vertical-align: top;\n",
       "    }\n",
       "\n",
       "    .dataframe thead th {\n",
       "        text-align: right;\n",
       "    }\n",
       "</style>\n",
       "<table border=\"1\" class=\"dataframe\">\n",
       "  <thead>\n",
       "    <tr style=\"text-align: right;\">\n",
       "      <th></th>\n",
       "      <th>ID</th>\n",
       "      <th>Parent Company</th>\n",
       "      <th>Acquisition Year</th>\n",
       "      <th>Acquired Company</th>\n",
       "      <th>Business</th>\n",
       "      <th>Country</th>\n",
       "      <th>Acquisition Price</th>\n",
       "    </tr>\n",
       "  </thead>\n",
       "  <tbody>\n",
       "    <tr>\n",
       "      <th>0</th>\n",
       "      <td>1</td>\n",
       "      <td>Apple</td>\n",
       "      <td>1988</td>\n",
       "      <td>Network Innovations</td>\n",
       "      <td>Software</td>\n",
       "      <td>-</td>\n",
       "      <td>-</td>\n",
       "    </tr>\n",
       "    <tr>\n",
       "      <th>1</th>\n",
       "      <td>2</td>\n",
       "      <td>Apple</td>\n",
       "      <td>1988</td>\n",
       "      <td>Orion Network Systems</td>\n",
       "      <td>Computer Software</td>\n",
       "      <td>-</td>\n",
       "      <td>-</td>\n",
       "    </tr>\n",
       "    <tr>\n",
       "      <th>2</th>\n",
       "      <td>3</td>\n",
       "      <td>Apple</td>\n",
       "      <td>1988</td>\n",
       "      <td>Styleware</td>\n",
       "      <td>Computer software</td>\n",
       "      <td>-</td>\n",
       "      <td>-</td>\n",
       "    </tr>\n",
       "    <tr>\n",
       "      <th>3</th>\n",
       "      <td>4</td>\n",
       "      <td>Apple</td>\n",
       "      <td>1988</td>\n",
       "      <td>Nashoba Systems</td>\n",
       "      <td>Computer software</td>\n",
       "      <td>-</td>\n",
       "      <td>-</td>\n",
       "    </tr>\n",
       "    <tr>\n",
       "      <th>4</th>\n",
       "      <td>5</td>\n",
       "      <td>Apple</td>\n",
       "      <td>1989</td>\n",
       "      <td>Coral Software</td>\n",
       "      <td>Computer software</td>\n",
       "      <td>-</td>\n",
       "      <td>-</td>\n",
       "    </tr>\n",
       "  </tbody>\n",
       "</table>\n",
       "</div>"
      ],
      "text/plain": [
       "   ID Parent Company Acquisition Year       Acquired Company  \\\n",
       "0   1          Apple             1988    Network Innovations   \n",
       "1   2          Apple             1988  Orion Network Systems   \n",
       "2   3          Apple             1988              Styleware   \n",
       "3   4          Apple             1988        Nashoba Systems   \n",
       "4   5          Apple             1989         Coral Software   \n",
       "\n",
       "            Business Country Acquisition Price  \n",
       "0           Software       -                 -  \n",
       "1  Computer Software       -                 -  \n",
       "2  Computer software       -                 -  \n",
       "3  Computer software       -                 -  \n",
       "4  Computer software       -                 -  "
      ]
     },
     "execution_count": 3,
     "metadata": {},
     "output_type": "execute_result"
    }
   ],
   "source": [
    "to_drop = ['Acquisition Month', 'Category', 'Derived Products']\n",
    "raw_data = raw_data.drop(to_drop, axis=1)  # Specify axis=1 to drop columns\n",
    "raw_data.head()\n"
   ]
  },
  {
   "cell_type": "code",
   "execution_count": 4,
   "id": "e5d209a6",
   "metadata": {},
   "outputs": [
    {
     "name": "stdout",
     "output_type": "stream",
     "text": [
      "['Ibm']\n",
      "38\n"
     ]
    }
   ],
   "source": [
    "# Filtering out rows with '-'\n",
    "data = raw_data[raw_data['Business'] != '-']\n",
    "data = data[data['Acquisition Price'] != '-']\n",
    "data = data[data['Acquisition Year'] != '-']\n",
    "data = data[data['Country'] != '-']\n",
    "data = data[data['Acquisition Price'] != 'undisclosed']\n",
    "# Convert Acquisition Price to numeric\n",
    "data['Acquisition Price'] = pd.to_numeric(data['Acquisition Price'], errors='coerce')\n",
    "\n",
    "# Convert Acquisition Year to integer\n",
    "data['Acquisition Year'] = pd.to_numeric(data['Acquisition Year'], errors='coerce', downcast='integer')\n",
    "\n",
    "# Drop rows with NaN values\n",
    "data = data.dropna(subset=['Acquisition Price', 'Acquisition Year'])\n",
    "\n",
    "# Adjust for inflation to a reference year (e.g., 2023)\n",
    "data['Adjusted_Acquisition_Price'] = data.apply(\n",
    "    lambda row: cpi.inflate(row['Acquisition Price'], row['Acquisition Year'], to=2023),\n",
    "    axis=1\n",
    ")\n",
    "\n",
    "# Remove remaining companies to solely look at IBM\n",
    "data = data[data['Parent Company'] != 'Twitter']\n",
    "unique_companies = data['Parent Company'].unique()\n",
    "print(unique_companies)\n",
    "print(data.shape[0])"
   ]
  },
  {
   "cell_type": "code",
   "execution_count": 5,
   "id": "4e039866",
   "metadata": {},
   "outputs": [
    {
     "data": {
      "image/png": "[encoded data removed]",
      "text/plain": [
       "<Figure size 720x432 with 1 Axes>"
      ]
     },
     "metadata": {
      "needs_background": "light"
     },
     "output_type": "display_data"
    }
   ],
   "source": [
    "# Plotting\n",
    "plt.figure(figsize=(10, 6))\n",
    "plt.scatter(data['Acquisition Year'], data['Acquisition Price'], color='blue')\n",
    "\n",
    "# Adding labels and title\n",
    "plt.title('Scatter Plot of Acquisition Year vs. Acquisition Cost')\n",
    "plt.xlabel('Acquisition Year')\n",
    "plt.ylabel('Acquisition Cost (in dollars)')\n",
    "plt.grid(True)\n",
    "\n",
    "# Show the plot\n",
    "plt.show()"
   ]
  },
  {
   "cell_type": "code",
   "execution_count": 6,
   "id": "9abbfc72",
   "metadata": {},
   "outputs": [
    {
     "name": "stdout",
     "output_type": "stream",
     "text": [
      "United States    0.710526\n",
      "Canada           0.105263\n",
      "Israel           0.078947\n",
      "India            0.026316\n",
      "Switzerland      0.026316\n",
      "Sweden           0.026316\n",
      "France           0.026316\n",
      "Name: Country, dtype: float64\n"
     ]
    }
   ],
   "source": [
    "# Get the frequency count of each company\n",
    "country_counts = data['Country'].value_counts()\n",
    "\n",
    "# Calculate the proportion\n",
    "country_proportions = country_counts / len(data)\n",
    "\n",
    "# Display the proportions\n",
    "print(country_proportions)"
   ]
  },
  {
   "cell_type": "code",
   "execution_count": 7,
   "id": "05183275",
   "metadata": {},
   "outputs": [
    {
     "data": {
      "image/png": "[encoded data removed]",
      "text/plain": [
       "<Figure size 432x288 with 1 Axes>"
      ]
     },
     "metadata": {
      "needs_background": "light"
     },
     "output_type": "display_data"
    }
   ],
   "source": [
    "country_proportions.plot(kind='bar', color='skyblue')\n",
    "plt.title('Proportion of Each Country')\n",
    "plt.xlabel('Country')\n",
    "plt.ylabel('Proportion')\n",
    "plt.show()"
   ]
  },
  {
   "cell_type": "code",
   "execution_count": 8,
   "id": "f563659d",
   "metadata": {},
   "outputs": [
    {
     "name": "stdout",
     "output_type": "stream",
     "text": [
      "Business strategy consulting                                       0.026316\n",
      "Software Development Firm                                          0.026316\n",
      "Business software integration                                      0.026316\n",
      "Data Compression                                                   0.026316\n",
      "Marketing planning software                                        0.026316\n",
      "Data warehousing and analytics                                     0.026316\n",
      "Financial governance                                               0.026316\n",
      "Risk Management                                                    0.026316\n",
      "Cloud-based Retail Analytics                                       0.026316\n",
      "Human Capital Solutions                                            0.026316\n",
      "Database software                                                  0.026316\n",
      "Cloud Computing Infrastructure                                     0.026316\n",
      "Cyber Security                                                     0.026316\n",
      "Mobile Device Management                                           0.026316\n",
      "Healthcare imaging software                                        0.026316\n",
      "Object-based storage software                                      0.026316\n",
      "Provider of cloud-based healthcare data, analytics and insights    0.026316\n",
      "Salesforce systems integrator and professional services            0.026316\n",
      "Cloud Integration                                                  0.026316\n",
      "Statistical analysis software                                      0.026316\n",
      "Business Rules Management Systems                                  0.026316\n",
      "Data De-duplication                                                0.026316\n",
      "Software                                                           0.026316\n",
      "Business Consulting and Technology Services                        0.026316\n",
      "Software Development                                               0.026316\n",
      "BPO Services                                                       0.026316\n",
      "Application Services                                               0.026316\n",
      "Enterprise Information Integration                                 0.026316\n",
      "Network management                                                 0.026316\n",
      "Asset Management                                                   0.026316\n",
      "Content management software                                        0.026316\n",
      "Information security                                               0.026316\n",
      "IT Services                                                        0.026316\n",
      "Change Data Capture                                                0.026316\n",
      "Enterprise storage                                                 0.026316\n",
      "Business Intelligence                                              0.026316\n",
      "Enterprise software development                                    0.026316\n",
      "Provider of open source software and solutions                     0.026316\n",
      "Name: Business, dtype: float64\n"
     ]
    }
   ],
   "source": [
    "# Get the frequency count of each company\n",
    "business_counts = data['Business'].value_counts()\n",
    "\n",
    "# Calculate the proportion\n",
    "business_proportions = business_counts / len(data)\n",
    "\n",
    "# Display the proportions\n",
    "print(business_proportions)"
   ]
  },
  {
   "cell_type": "code",
   "execution_count": 9,
   "id": "a8540b5e",
   "metadata": {},
   "outputs": [
    {
     "data": {
      "image/png": "[encoded data removed]",
      "text/plain": [
       "<Figure size 432x288 with 1 Axes>"
      ]
     },
     "metadata": {
      "needs_background": "light"
     },
     "output_type": "display_data"
    }
   ],
   "source": [
    "# Get the frequency count of each company\n",
    "year_counts = data['Acquisition Year'].value_counts()\n",
    "\n",
    "# Calculate the proportion\n",
    "year_proportions = year_counts / len(data)\n",
    "\n",
    "year_proportions.plot(kind='bar', color='green')\n",
    "plt.title('Proportion by Year')\n",
    "plt.xlabel('Year')\n",
    "plt.ylabel('Proportion')\n",
    "plt.show()"
   ]
  },
  {
   "cell_type": "code",
   "execution_count": 10,
   "id": "19afe2a5",
   "metadata": {},
   "outputs": [
    {
     "name": "stdout",
     "output_type": "stream",
     "text": [
      "Decision Tree Cross-Validation MSE: 6.1269251481520325e+19\n",
      "Decision Tree Test MSE: 4.1533223306152346e+19\n",
      "Random Forest Cross-Validation MSE: 4.240090495468384e+19\n",
      "Random Forest Test MSE: 2.0930596738679685e+19\n"
     ]
    },
    {
     "data": {
      "image/png": "[encoded data removed]",
      "text/plain": [
       "<Figure size 720x432 with 1 Axes>"
      ]
     },
     "metadata": {
      "needs_background": "light"
     },
     "output_type": "display_data"
    }
   ],
   "source": [
    "# Data Preprocessing\n",
    "# Encode categorical variables (Country and Business) using LabelEncoder\n",
    "label_encoder_country = LabelEncoder()\n",
    "label_encoder_business = LabelEncoder()\n",
    "\n",
    "data['Country'] = label_encoder_country.fit_transform(data['Country'])\n",
    "data['Business'] = label_encoder_business.fit_transform(data['Business'])\n",
    "\n",
    "# Define features (X) and target (y)\n",
    "X = data[['Country', 'Business', 'Acquisition Year']]\n",
    "y = data['Acquisition Price']\n",
    "\n",
    "# Split the dataset into training and testing sets\n",
    "X_train, X_test, y_train, y_test = train_test_split(X, y, test_size=0.2, random_state=42)\n",
    "\n",
    "# 1. Pre-Pruning\n",
    "decision_tree = DecisionTreeRegressor(\n",
    "    max_depth=4,          # Limit tree depth to prevent overfitting\n",
    "    min_samples_split=4,  # Minimum samples required to split a node\n",
    "    min_samples_leaf=2,   # Minimum samples required at each leaf node\n",
    "    random_state=42\n",
    ")\n",
    "\n",
    "# Training the model\n",
    "decision_tree.fit(X_train, y_train)\n",
    "\n",
    "# Evaluate the Decision Tree using cross-validation\n",
    "cv_scores = cross_val_score(decision_tree, X_train, y_train, cv=5, scoring='neg_mean_squared_error')\n",
    "print(f\"Decision Tree Cross-Validation MSE: {-cv_scores.mean()}\")\n",
    "\n",
    "# Predict on the test set and evaluate\n",
    "y_pred_tree = decision_tree.predict(X_test)\n",
    "mse_tree = mean_squared_error(y_test, y_pred_tree)\n",
    "print(f\"Decision Tree Test MSE: {mse_tree}\")\n",
    "\n",
    "# 2. Inclusion of Random Forest (Ensemble Method)\n",
    "random_forest = RandomForestRegressor(\n",
    "    n_estimators=100,     # Number of trees in the forest\n",
    "    max_depth=4,          # Control the depth of each tree\n",
    "    min_samples_split=4,  # Minimum samples required to split a node\n",
    "    min_samples_leaf=2,   # Minimum samples required at each leaf node\n",
    "    random_state=42\n",
    ")\n",
    "\n",
    "# Train the Random Forest\n",
    "random_forest.fit(X_train, y_train)\n",
    "\n",
    "# Evaluate the Random Forest using cross-validation\n",
    "cv_scores_rf = cross_val_score(random_forest, X_train, y_train, cv=5, scoring='neg_mean_squared_error')\n",
    "print(f\"Random Forest Cross-Validation MSE: {-cv_scores_rf.mean()}\")\n",
    "\n",
    "# Predict on the test set and evaluate\n",
    "y_pred_rf = random_forest.predict(X_test)\n",
    "mse_rf = mean_squared_error(y_test, y_pred_rf)\n",
    "print(f\"Random Forest Test MSE: {mse_rf}\")\n",
    "\n",
    "# Feature Importance from the Random Forest\n",
    "plt.figure(figsize=(10, 6))\n",
    "plt.barh(X.columns, random_forest.feature_importances_)\n",
    "plt.title(\"Feature Importance from Random Forest\")\n",
    "plt.xlabel(\"Importance\")\n",
    "plt.ylabel(\"Feature\")\n",
    "plt.show()"
   ]
  },
  {
   "cell_type": "code",
   "execution_count": null,
   "id": "5cabc178",
   "metadata": {},
   "outputs": [],
   "source": []
  }
 ],
 "metadata": {
  "kernelspec": {
   "display_name": "Python 3 (ipykernel)",
   "language": "python",
   "name": "python3"
  },
  "language_info": {
   "codemirror_mode": {
    "name": "ipython",
    "version": 3
   },
   "file_extension": ".py",
   "mimetype": "text/x-python",
   "name": "python",
   "nbconvert_exporter": "python",
   "pygments_lexer": "ipython3",
   "version": "3.9.12"
  }
 },
 "nbformat": 4,
 "nbformat_minor": 5
}
